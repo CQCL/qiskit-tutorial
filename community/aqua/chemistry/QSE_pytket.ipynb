{
 "cells": [
  {
   "cell_type": "markdown",
   "metadata": {},
   "source": [
    "# _*Quantum chemistry with Qiskit Terra, Aqua and t|ket〉*_  \n",
    "\n",
    "In this tutorial, we discuss how to use IBM's Qiskit `Terra` and `Aqua` packages, and the `t|ket>` compiler by Cambridge Quantum Computing (CQC), to calculate the excited state energies of simple molecules using the quantum subspace expansion (QSE) technique. By the end of this tutorial, you will\n",
    "\n",
    "* ??\n",
    "* ??\n",
    "\n",
    "**Contents**\n",
    "\n",
    "\n",
    "**Code setup**\n",
    "It makes use of the Quantum Subspace Expansion [2, 3] as implemented in `pytket` (the python interface to `t|ket〉`). To install it go to http://github.com/CQCL/pytket and follow the README (or just try running `pip install pytket`).\n",
    "\n",
    "**TODO: Explain we expect reader to have some familiarity with quantum chemistry methods**"
   ]
  },
  {
   "cell_type": "markdown",
   "metadata": {},
   "source": [
    "## Quantum chemistry in the NISQ era, and the need for circuit optimization techniques\n",
    "\n",
    "One of the expected applications of noisy, intemediate-scale quantum (NISQ) devices is simulating quantum chemistry. In its simplest form, a quantum chemisty calculation answers the question \"Given how electrons and nuclei of a particular molecule are arranged, what is the _energy_ of that configuration?\". By examining how the energy of the configuration changes as the nuclei and electrons are moved relative to one another, we can map out an _energy surface_. The configuration that minimizes the energy is a stable, equilibrium point for the molecule. Knowing this configuration (and its associated energy), we can deduce a variety of molecular properties, including **NEED EXAMPLES**\n",
    "\n",
    "Most quantum chemistry algorithms for computing moleecular energies rely on the variational quantum eigensolver (VQE) algorithm **CITATION NEEDED**. This algorithm uses a parameterized _ansatz_ $|{\\psi}(\\boldsymbol{\\theta})\\rangle$ to describe the ground state energy of the Hamiltonian $H$ for a given configuration. By examining how the expected energy $\\langle \\psi(\\boldsymbol{\\theta})|H| \\psi(\\boldsymbol{\\theta})\\rangle$ changes as $\\boldsymbol{\\theta}$ is varied, we can optimize the parameters to find an estimate for the ground state and its corresponding energy.\n",
    "\n",
    "Running the VQE algorithm on actual hardware has two complications:\n",
    "\n",
    "* Efficiently preparing the trial state $|\\psi(\\boldsymbol{\\theta})\\rangle$.\n",
    "\n",
    "* Efficiently measuring the terms in the Hamiltonian $H$ that describe the configuration.\n",
    "\n",
    "In this tutorial, we'll focus on the problem of efficiently preparing the trial state. We do so for two reasons:\n",
    "\n",
    "* An accurate estimate of the ground state is all that's necessary to do the quantum subspace expansion technique to estimate excited state energies\n",
    "\n",
    "* To demonstrate the capabilies of Qiskit `Terra` and CQC's `t|ket>` compiler to reduce the circuit _resources_ (number of gates, depth, etc.) for the state preparation. In principle, these capabilities can be deployed for other problems.\n",
    "\n",
    "Reducing the resources is crucial in the NISQ era, because NISQ devices cannot execute arbitrarily-sized circuits. (Here, \"size\" refers to the **INFORMATION NEEDED** of the circuit, which is a **XXXXX**.) For this reason, techniques which reduce circuit requirements are necessary to obtain accurate results on real hardware. Note that there are techniques, such as qubit tapering **CITATION**, or the manual construction of efficient circuit designs **IBM [1] citation** which also reduce circuit resources. However, those techniqeus reduce resources at the elvel of the Hamiltonian itself; here, we're interested in techniques that also reduce resources without having to reformulate the Hamiltonian. **TECHNICAL QUESTION: Do these techniques relate more to the second complication raised above?**\n",
    "\n",
    "At a high level, our approach utilizes Qiskit `Aqua` to generate a parameterized ansatz based on the _Unitary Coupled Cluster, Single-Double_ (UCCSD) ansatz **TODO: citation**. We then use Qiskit `Terra` and the `t|ket>` compiler (as implemented in `pytket`) to optimize the circuit for that ansatz. We will show that the optimized ansatz requires substantially fewer circuit resources than the naive UCCSD ansatz. An application of our approach, we show how to use the quantum subspace expansion (QSE) technique to compute excited state energies for gaseous hydrogen (H$_{2}$) and lithium hydride (LiH)."
   ]
  },
  {
   "cell_type": "markdown",
   "metadata": {},
   "source": [
    "## Computing excited state energies using the Quantum Subspace Expansion (QSE) technique\n",
    "\n",
    "**TODO: Explain why excited state energies are interesting**\n",
    "\n",
    "The energies of electronic excited states prove, in general, challenging to compute. Excited states are usually more _entangled_ than ground states and so require more computational resources to compute. **TODO: Explain why** This causes the number of states considered in a calculation to grow considerably, often beyond the capabilities of the most advanced classical supercomputers. This is a problem as it makes classical computation of the energy, to an appropriate accuracy, of many molecules impossible. \n",
    "\n",
    "This notebook demonstrates calculation of excited states of molecules using the quantum subspace expanansion (QSE) technique. **TODO: Citation**. The QSE technique uses an accurate estimate of the ground state energy of a given molecular configuration to estimate the energies of excited states. Consider a fixed molecule (represented by a given Hamiltonian $H$), and suppose $\\left|\\Psi_{0}\\right\\rangle$ is the output of the VQE algorithm for estimating the ground state energy of $H$.\n",
    "\n",
    "The QSE technique constructs a subspace of state vectors $\\left|\\Psi_j^k\\right\\rangle$ formed by one-electron excitations of the ground state wavefunction:\n",
    "\n",
    "\\begin{equation}\n",
    "\\left|\\Psi_{j}^{k}\\right\\rangle = c_k^{\\dagger}c_{j}\\left|\\Psi_0\\right\\rangle.\n",
    "\\end{equation}\n",
    "\n",
    "where $c_k^{\\dagger}, c_{j}$ are the fermionic creation and annihilation operators over spin orbitals $k$ and $j$, respectively. That is, these vectors are formed by reducing the occupation of spin orbital $j$ by one, and increasing the occupation of spin orbital $k$ by one. (**TECHNICAL QUESTIONS: Is this an accurate description of the math? Are these vectors orthogonal to $\\Psi_{0}$?**)\n",
    "\n",
    "**TODO: Explain how the mapping to the subspace works**\n",
    "\n",
    "Within this subspace, we solve a generalized eigenvalue problem. Consider the operator $H'$ with matrix elements given by\n",
    "$$(H')_{jk}^{lm} = \\langle\\Psi_j^l \\left| H \\right| \\Psi_k^m\\rangle,$$\n",
    "\n",
    "**TODO: Make sure the math is right**\n",
    "\n",
    "and define an overlap matrix $S$ whose matrix elements are given by\n",
    "\n",
    "$$S_{jk}^{lm} = \\langle \\Psi_j^l \\left|\\Psi_k^m\\right\\rangle.$$\n",
    "\n",
    "The generalized eigenvalue equation to be solved is \n",
    "\n",
    "\\begin{equation}\n",
    "H'C=SCE,\n",
    "\\end{equation}\n",
    "\n",
    "where $C$ is the matrix of eigenvectors, and $E$ is the vector of eigenvalues. Crucially, _the lowest-energy eigenvalues of $E$ provide an estimate of the excited state energies of $H$_.\n",
    "\n",
    "Notice that the solution to the generalized eigenvalue equation can be done on a classical computer, provided $H'$ and $S$ have been calculated. The matrix elements of both of these matrices can be constructed using a quantum computer, in the following way. First, re-write the matrix elements in terms of $\\left | \\Psi_{0}\\right \\rangle$:\n",
    "\n",
    "\\begin{align}\n",
    "(H')_{jk}^{lm} =& \\langle\\Psi_j^l \\left| H \\right| \\Psi_k^m\\rangle = ??\\\\\n",
    "S_{jk}^{lm} &= \\langle \\Psi_j^l \\left|\\Psi_k^m\\right\\rangle = ??.\n",
    "\\end{align}\n",
    "\n",
    "**TODO: Fill these in**\n",
    "\n",
    "The matrix elements can be calculated using a quantum computer or simluator.\n",
    "\n",
    "To perform the evaluations corresponding to each element, we can use the following trick. In the second quantization formalism, S matrix element $s_{ij}^{kl}$ the element may be written as:\n",
    "\n",
    "\\begin{equation}\n",
    " s_{ij}^{kl} = \\langle ik  | jl \\rangle= \\langle \\Psi_0 c_i c_k^\\dagger |c_l^\\dagger c_j \\Psi_0 \\rangle =\\langle \\Psi_0 |c_i c_k^\\dagger c_l^\\dagger c_j|\\Psi_0 \\rangle\n",
    "\\end{equation}\n",
    "\n",
    "We can obtain $s^{ij}_{kl}$ by transforming the $c_ic_k^\\dagger c_l^\\dagger c_j$ set of operators to a set of Pauli quantum gates according to an appropriate scheme such as Jordan-Wigner or Bravyi-Kitaev, apply this gate set to the ground state wavefunction (constructed with the coefficients obtained from the VQE calculation) and perform a measurement to obtain the expected value. In a similar fashion, the H matrix elements can be measured after constructing the operator $c_ic_k^\\dagger \\hat{H}c_l^\\dagger c_j$, transforming it to a representation of Pauli operators and applying it over $|\\Psi_0\\rangle$. \n",
    "\n",
    "Therefore, to use the QSE technique, we need to use the quantum computer to calculate 2 quantities:\n",
    "\n",
    "* An estimate of the ground state $\\left |\\Psi_{0}\\right\\rangle$ (by running the VQE algorithm)\n",
    "* The matrix elements of $H'$ and $S$.\n",
    "\n",
    "For the first quantity, we want to have an efficient representation of the trial state $|\\psi(\\boldsymbol{\\theta})\\rangle$. And for the second, we need to be able to take the estimate of the ground state and efficiently compute matrix elements. In both of these cases, being able to optimize the circuit for preparing would be useful. Thankfully, Qiskit `Terra`, in conjunction with `t|ket>`, provides us tools for doing so. We discuss the problem of _circuit compilation/optimization_ in the next section."
   ]
  },
  {
   "cell_type": "code",
   "execution_count": null,
   "metadata": {},
   "outputs": [],
   "source": []
  },
  {
   "cell_type": "code",
   "execution_count": null,
   "metadata": {},
   "outputs": [],
   "source": []
  },
  {
   "cell_type": "code",
   "execution_count": null,
   "metadata": {},
   "outputs": [],
   "source": []
  },
  {
   "cell_type": "code",
   "execution_count": null,
   "metadata": {},
   "outputs": [],
   "source": []
  },
  {
   "cell_type": "markdown",
   "metadata": {},
   "source": [
    "Let’s illustrate this method with a simple example, the Hydrogen molecule (H2). The notebook also includes code to calculate the lithium hydride (LiH) molecule in an identical manner, but the code is much slower to run. We first run the VQE procedure using the tket〉 compiler and Qiskit simulator to determine the ground state energy and construct the H and S matrix elements required for the QSE algorithm. First let's start by importing qiskit and pytket."
   ]
  },
  {
   "cell_type": "code",
   "execution_count": 19,
   "metadata": {
    "ExecuteTime": {
     "end_time": "2018-09-29T00:04:16.313210Z",
     "start_time": "2018-09-29T00:04:14.460647Z"
    }
   },
   "outputs": [],
   "source": [
    "import qiskit\n",
    "import pytket"
   ]
  },
  {
   "cell_type": "markdown",
   "metadata": {},
   "source": [
    "## Configure experiment <a id='sectionB'></a>\n",
    "\n",
    "We choose the basis set spanning the molecular wavefunction, the molecular geometry, the chemical identity of each atom, the charge and spin quantum number.\n",
    "\n",
    "To get results for LiH (slower), just comment out the H2 string and replace it with the LiH one."
   ]
  },
  {
   "cell_type": "code",
   "execution_count": 20,
   "metadata": {
    "ExecuteTime": {
     "end_time": "2018-09-29T00:04:20.069592Z",
     "start_time": "2018-09-29T00:04:20.065489Z"
    }
   },
   "outputs": [],
   "source": [
    "bond_length = 0.7\n",
    "\n",
    "# setup molecule\n",
    "# base_molecule_str = 'Li .0 .0 .0; H .0 .0 {}'\n",
    "base_molecule_str = 'H .0 .0 .0; H .0 .0 {}'\n",
    "charge = 0\n",
    "spin = 0\n",
    "basis = 'sto3g'"
   ]
  },
  {
   "cell_type": "markdown",
   "metadata": {},
   "source": [
    "We now choose a backend to run the quantum sub-routines on. Running the experiment on a real device requires setting up an account first.\n",
    "Note: If you do not store your token yet, use IBMQ.save_accounts() to store it first."
   ]
  },
  {
   "cell_type": "code",
   "execution_count": 21,
   "metadata": {},
   "outputs": [],
   "source": [
    "# choose quantum backend (e.g. 'statevector_simulator', 'qasm_simulator', 'ibmqx5')\n",
    "# for a remote backend you will need to load your API account\n",
    "\n",
    "# local backends\n",
    "# backend_name = 'qasm_simulator'\n",
    "backend_name = 'statevector_simulator'\n",
    "backend = qiskit.Aer.get_backend(backend_name)\n",
    "\n",
    "# remote backends\n",
    "# qiskit.IBMQ.load_accounts()\n",
    "# backend_name = 'ibmqx4'\n",
    "# backend = qiskit.IBMQ.get_backend(backend_name)"
   ]
  },
  {
   "cell_type": "code",
   "execution_count": 22,
   "metadata": {},
   "outputs": [],
   "source": [
    "from qiskit_aqua import QuantumInstance\n",
    "from qiskit.transpiler import PassManager\n",
    "from pytket.qiskit import TketPass\n",
    "\n",
    "pass_manager = PassManager()\n",
    "tk_pass = TketPass(backend)\n",
    "pass_manager.append(tk_pass)\n",
    "\n",
    "quantum_instance = QuantumInstance(backend, pass_manager=pass_manager)"
   ]
  },
  {
   "cell_type": "markdown",
   "metadata": {},
   "source": [
    "## t|ket〉compilation <a id='sectionC'></a>\n",
    "\n",
    "We now set up a `QuantumInstance` object with our backend and specify that we want to use the `TketPass` transpilation pass from `pytket` as part of our compilation of quantum circuits. The pass performs chemistry specific optimisation and significantly reduces circuit depth for these routines. For near term quantum devices with short coherence times, decreasing the circuit depth for the same calculation reduces the effect of noise and produces better results.\n",
    "\n",
    "The table below exhibits the difference in circuit size and depth for ground state energy estimation of LiH via VQE using the default `Qiskit` compilation for the device and using `t|ket〉` for the same device. Typical and representative results are shown for just circuit optimisation, and also for circuit optimisation followed by hardware dependent compilation or \"routing\".\n",
    "\n",
    "Routing refers to the process of making quantum circuits hardware compliant by the addition of SWAP gates such that all multi-qubit interactions occur on adjacent physical qubits. The following routing results are for circuits compliant to the IBM Q 14 Melbourne device.\n",
    "\n",
    "| LiH Ansatz Circuit                   | Total Gates | Overall Depth | Overall CNOT Count |\n",
    "|--------------------------------------|-------------|---------------|--------------------|\n",
    "| Input circuit                        | 13700       | 9342          | 8064               |\n",
    "| `tket` circuit optimization          | 8215        | 4467          | 5900               |\n",
    "| `Qiskit ` routing                    | 42178       | 23367         | 17977              |\n",
    "| `tket` circuit optimzation + routing | 19256       | 10022         | 8711               |\n"
   ]
  },
  {
   "cell_type": "markdown",
   "metadata": {},
   "source": [
    "## Perform classical calculation <a id='sectionB'></a>\n",
    "\n",
    "We execute our classical chemistry driver to obtain the hamiltonian integrals. In this case, we choose PYSCF as our driver, so make sure you have that installed.\n"
   ]
  },
  {
   "cell_type": "code",
   "execution_count": 23,
   "metadata": {},
   "outputs": [
    {
     "name": "stdout",
     "output_type": "stream",
     "text": [
      "Molecular repulsion energy:  0.7559674441714287\n"
     ]
    }
   ],
   "source": [
    "from qiskit_aqua_chemistry.drivers import ConfigurationManager\n",
    "\n",
    "# using driver to get fermionic Hamiltonian\n",
    "# PySCF example\n",
    "cfg_mgr = ConfigurationManager()\n",
    "driver = cfg_mgr.get_driver_instance('PYSCF')\n",
    "\n",
    "pyscf_cfg = {'atom': base_molecule_str.format(bond_length),\n",
    "             'unit': 'Angstrom',\n",
    "             'charge': charge,\n",
    "             'spin': spin,\n",
    "             'basis': basis}\n",
    "\n",
    "molecule = driver.run({'properties': pyscf_cfg})\n",
    "\n",
    "print(\"Molecular repulsion energy: \", molecule.nuclear_repulsion_energy)"
   ]
  },
  {
   "cell_type": "markdown",
   "metadata": {},
   "source": [
    "## Set up initial state and variational form <a id='sectionB'></a>\n",
    "\n",
    "We define the molecular hamiltonian and map it to a qubit operator according to some appropriate scheme such as the Jordan-Wigner transform. We initialize our initial state (a Hartree-Fock state) and our variational ansatz (a unitary coupled cluster with single and double excitations, UCCSD)."
   ]
  },
  {
   "cell_type": "code",
   "execution_count": 24,
   "metadata": {},
   "outputs": [],
   "source": [
    "from qiskit_aqua_chemistry import FermionicOperator\n",
    "from qiskit_aqua_chemistry.aqua_extensions.components.initial_states import HartreeFock\n",
    "from qiskit_aqua_chemistry.aqua_extensions.components.variational_forms import UCCSD\n",
    "\n",
    "n_qubits = molecule.one_body_integrals.shape[0]\n",
    "n_electrons = molecule.num_alpha + molecule.num_beta - molecule.molecular_charge\n",
    "\n",
    "# get fermionic operator and mapping to qubit operator\n",
    "ferOp = FermionicOperator(h1=molecule.one_body_integrals, h2=molecule.two_body_integrals)\n",
    "\n",
    "qubitOp = ferOp.mapping(map_type='JORDAN_WIGNER', threshold=0.00000001)\n",
    "qubitOp.chop(10**-10)\n",
    "\n",
    "# setup variation form generator (generate trial circuits for VQE)\n",
    "initial_hf = HartreeFock(num_qubits=n_qubits, num_orbitals=n_qubits, \n",
    "                    qubit_mapping='jordan_wigner', two_qubit_reduction=False, num_particles= n_electrons)\n",
    "\n",
    "var_form = UCCSD(num_qubits=n_qubits, num_orbitals=n_qubits, \n",
    "                num_particles=n_electrons, depth=1, initial_state=initial_hf, qubit_mapping='jordan_wigner')\n",
    "\n",
    "\n",
    "\n"
   ]
  },
  {
   "cell_type": "markdown",
   "metadata": {},
   "source": [
    "## Use VQE to find ground state <a id='sectionB'></a>\n",
    "\n",
    "We run the VQE algorithm with the components previously defined. The calculation provides us with the ground state energy and optimized parameters for the corresponding UCCSD wavefunction. In this example we use the L_BFGS_B algorithm for classical optimization."
   ]
  },
  {
   "cell_type": "code",
   "execution_count": 25,
   "metadata": {},
   "outputs": [
    {
     "name": "stdout",
     "output_type": "stream",
     "text": [
      "GS Minimum value: -1.1361894540653963\n",
      "GS Parameters: [ 5.06008657e-07  5.12457730e-07 -1.04867316e-01]\n"
     ]
    }
   ],
   "source": [
    "from qiskit_aqua.components.optimizers import L_BFGS_B\n",
    "from qiskit_aqua.algorithms import VQE\n",
    "\n",
    "\n",
    "# set initial values of parameters\n",
    "number_amplitudes = len(var_form._single_excitations)+ len(var_form._double_excitations)\n",
    "\n",
    "amplitudes_0 = []\n",
    "for i in range(number_amplitudes):\n",
    "    amplitudes_0.append(0.00001)\n",
    "\n",
    "optimizer = L_BFGS_B()\n",
    "optimizer.set_options(maxfun=1000, factr=10, iprint=10)\n",
    "\n",
    "# setup VQE with operator, variation form, and optimzer\n",
    "vqe_algorithm = VQE(operator=qubitOp, operator_mode='matrix', \n",
    "                    var_form=var_form, optimizer=optimizer, initial_point=amplitudes_0)\n",
    "\n",
    "results = vqe_algorithm.run(quantum_instance)\n",
    "\n",
    "eigval = results['eigvals'][0]\n",
    "gs_energy = eigval.real + molecule.nuclear_repulsion_energy\n",
    "\n",
    "print(\"GS Minimum value: {}\".format(gs_energy))\n",
    "print(\"GS Parameters: {}\".format(results['opt_params']))\n",
    "\n",
    "# store ground state amplitudes for subsequent steps\n",
    "opti_amplitudes = results['opt_params']\n",
    "\n"
   ]
  },
  {
   "cell_type": "markdown",
   "metadata": {},
   "source": [
    "## Use QSE to find excited states from ground state <a id='sectionB'></a>\n",
    "\n",
    "We now have the main ingredients to perform a QSE calculation: the molecular hamiltonian and the optimized parameters to reconstruct the ground state wavefunction. We build our excitation hamiltonian and overlap operators, and measure the elements that compose $H$ and $S$. After we have obtained these arrays, we perform a diagonalization to obtain the excited state energies and vectors.\n"
   ]
  },
  {
   "cell_type": "code",
   "execution_count": 26,
   "metadata": {},
   "outputs": [
    {
     "name": "stdout",
     "output_type": "stream",
     "text": [
      "Excited State Energies:  [-1.13618945 -0.47845306 -0.47845306 -0.47845306 -0.1204519   0.5833141\n",
      "  0.75596744  0.75596744  0.75596744  0.75596744  0.75596744  0.75596744\n",
      "  0.75596744  0.75596744  0.75596744  0.75596744]\n"
     ]
    }
   ],
   "source": [
    "from pytket.chemistry import QseMatrices, QSE\n",
    "\n",
    "qubitOp = ferOp.mapping(map_type='JORDAN_WIGNER', threshold=0.00000001)\n",
    "n_qubits = qubitOp.num_qubits\n",
    "qubitOp.chop(10**-10)\n",
    "# use matrix term helper class\n",
    "matrix_terms = QseMatrices(qubitOp, n_qubits)\n",
    "\n",
    "qse_algorithm = QSE(matrix_terms, 'matrix', var_form, opt_init_point=opti_amplitudes)\n",
    "\n",
    "energies = qse_algorithm.run(quantum_instance)['eigvals']\n",
    "print(\"Excited State Energies: \", energies+molecule.nuclear_repulsion_energy)\n",
    "\n"
   ]
  },
  {
   "cell_type": "markdown",
   "metadata": {},
   "source": [
    "The calculation provides a refined value of the ground state and a series of excited state energies, whose number depends on the size of the basis set chosen for the molecule, as well as its nature and symmetry. Some of the energies obtained are repeated several times, signaling that some of the states obtained are degenerate. This result can be improved by either increasing the basis set or considering higher-order excitations in the subspace expansion.\n",
    "\n",
    "The following graph shows us the excited states of LiH at a range of bond distances calculated via two methods. To generate this data yourself just scan the bond length we set at the start of the calculation.\n",
    "\n",
    "Using our quantum algorithm, we find the ground state curve has a minimum at a separation of about 1.5 Å, which is in reasonable agreement with experimental data. The calculation also finds a number of excited states. Looking at the first three of these, we find that at the equilibrium distance, these states are 0.11, 0.12 and 0.17 Ha higher in energy than the ground state, which is again in reasonable agreement with experimental data. Note the small kink in one of the excited states energy curve at a distance of approximately 1.2 Å. This indicates that our restriction to single electron excitations is not enough to provide an accurate description at this distance. Overall, the comparison with classically computed EOM-CCSD curves shows that this method reproduces excited state energies with good accuracy at most distances.\n",
    "\n",
    "![alt text](LiH.png \"Title\")"
   ]
  },
  {
   "cell_type": "markdown",
   "metadata": {},
   "source": [
    "[1] Ganzhorn. M , Egger. D. J. Barkoutsos.P, Ollitrault. P, Salis. G, Moll. N, Fuhrer. A, Mueller. P, Woerner. S, Tavernelli. I, Filipp. (IBM) S arXiv: 1809.05057v1\n",
    "\n",
    "[2] J. R. McClean, M. E. Kimchi-Schwartz, J. Carter and W. A. de Jong, Phys. Rev. A 95, 042308 (2017)\n",
    "\n",
    "[3] J. I. Colless, V. V. Ramasesh, D. Dahlen, M. S. Blok, M. E. Kimchi-Schwartz, J. R. McClean, J. Carter, W. A. de Jong and I. Siddiqi, Phys. Rev. X 8, 011021 (2018)\n",
    "\n"
   ]
  }
 ],
 "metadata": {
  "anaconda-cloud": {},
  "kernelspec": {
   "display_name": "Python 3",
   "language": "python",
   "name": "python3"
  },
  "language_info": {
   "codemirror_mode": {
    "name": "ipython",
    "version": 3
   },
   "file_extension": ".py",
   "mimetype": "text/x-python",
   "name": "python",
   "nbconvert_exporter": "python",
   "pygments_lexer": "ipython3",
   "version": "3.6.3"
  }
 },
 "nbformat": 4,
 "nbformat_minor": 1
}
