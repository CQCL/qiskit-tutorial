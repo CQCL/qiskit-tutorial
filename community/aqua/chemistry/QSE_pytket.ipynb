{
 "cells": [
  {
   "cell_type": "markdown",
   "metadata": {},
   "source": [
    "## _*Chemistry with Qiskit Aqua and t|ket〉*_  \n",
    "### Excited states with Quantum Subspace Expansion"
   ]
  },
  {
   "cell_type": "markdown",
   "metadata": {},
   "source": [
    "This notebook demonstrates calculation of excited states of molecules using quantum algorithms. The example shows Qiskit Aqua interface combined with fast circuit compilation and optimization via `t|ket〉`. \n",
    "\n",
    "The example makes use of the Quantum Subspace Expansion [1, 2] as implemented in `pytket` (the python interface to `t|ket〉`). You will need to have the pytket package installed to run it, which depends on `qiskit-terra v0.7`, `qiskit-aqua v0.4` and `qiskit-aqua-chemistry v0.4`). \n",
    "\n",
    "In order to perform this calculation, we start from a ground state wavefunction $\\Psi_0$ calculated with the Variational Quantum Eigensolver (VQE) technique. We construct a subspace of state vectors $\\Psi_i^k$ formed by one-electron excitations of the ground state wavefunction:\n",
    "\n",
    "\\begin{equation}\n",
    "\\left|\\Psi_i^k\\right\\rangle = c_k^{\\dagger}c_i\\left|\\Psi_0\\right\\rangle\n",
    "\\end{equation}\n",
    "\n",
    "where $c_k^{\\dagger}$, $c_i$ are the fermionic creation and annihilation operators over spinorbitals k and i, respectively. The fermionic operators act by reducing the occupation of spinorbital i to zero, and increasing the occupation of spinorbital k to one. Then we solve the generalized eigenvalue problem corresponding to this subspace, whose equation is:\n",
    "\n",
    "\\begin{equation}\n",
    "HC=SCE\n",
    "\\end{equation}\n",
    "\n",
    "where $C$ is the matrix of eigenvectors, $E$ is the vector of eigenvalues, $S$ is the overlap matrix and $H$ is the Hamiltonian matrix for the subspace considered. The elements h$_{ij}^{kl}$ of $H$ are of the form:\n",
    "\n",
    "\\begin{equation}\n",
    "h_{ij}^{kl} =  \\langle\\Psi_i^k \\left| \\widehat{H} \\right| \\Psi_j^l\\rangle\n",
    "\\end{equation}\n",
    "\n",
    "Where $\\widehat{H}$ is the molecular hamiltonian operator. In a similar way, the elements s$_{ij}^{kl}$ of $S$ are found from the following expression:\n",
    "\n",
    "\\begin{equation}\n",
    "s_{ij}^{kl} = \\langle \\Psi_i^k \\left|\\Psi_j^l\\right\\rangle\n",
    "\\end{equation}\n",
    "\n",
    "The matrix elements can be calculated using a quantum computer or simluator.\n",
    "\n",
    "\n",
    "Let’s illustrate this method with a simple examples, the hydrogen (H2) and lithium hydride (LiH) molecules. First let's start by importing qiskit and pytket."
   ]
  },
  {
   "cell_type": "code",
   "execution_count": 3,
   "metadata": {
    "ExecuteTime": {
     "end_time": "2018-09-29T00:04:16.313210Z",
     "start_time": "2018-09-29T00:04:14.460647Z"
    }
   },
   "outputs": [],
   "source": [
    "import qiskit\n",
    "import pytket"
   ]
  },
  {
   "cell_type": "markdown",
   "metadata": {},
   "source": [
    "## Configure experiment <a id='sectionB'></a>\n",
    "\n",
    "We choose the basis set spanning the molecular wavefunction, the molecular geometry, the chemical identity of each atom, the charge and spin quantum number.\n",
    "\n",
    "To get results for LiH (slower), just comment out the H2 string and replace it with the LiH one."
   ]
  },
  {
   "cell_type": "code",
   "execution_count": 4,
   "metadata": {
    "ExecuteTime": {
     "end_time": "2018-09-29T00:04:20.069592Z",
     "start_time": "2018-09-29T00:04:20.065489Z"
    }
   },
   "outputs": [],
   "source": [
    "bond_length = 0.7\n",
    "\n",
    "# setup molecule\n",
    "# base_molecule_str = 'Li .0 .0 .0; H .0 .0 {}'\n",
    "base_molecule_str = 'H .0 .0 .0; H .0 .0 {}'\n",
    "charge = 0\n",
    "spin = 0\n",
    "basis = 'sto3g'"
   ]
  },
  {
   "cell_type": "markdown",
   "metadata": {},
   "source": [
    "We now choose a backend to run the quantum sub-routines on. Running the experiment on a real device requires setting up an account first.\n",
    "Note: If you do not store your token yet, use IBMQ.save_accounts() to store it first."
   ]
  },
  {
   "cell_type": "code",
   "execution_count": 5,
   "metadata": {},
   "outputs": [],
   "source": [
    "# choose quantum backend (e.g. 'statevector_simulator', 'qasm_simulator', 'ibmqx5')\n",
    "# for a remote backend you will need to load your API account\n",
    "\n",
    "# local backends\n",
    "backend_name = 'statevector_simulator'\n",
    "backend = qiskit.Aer.get_backend(backend_name)\n",
    "\n",
    "# remote backends\n",
    "# qiskit.IBMQ.load_accounts()\n",
    "# backend_name = 'ibmqx5'\n",
    "# backend = qiskit.IBMQ.get_backend(backend)"
   ]
  },
  {
   "cell_type": "markdown",
   "metadata": {},
   "source": [
    "## t|ket〉compilation <a id='sectionC'></a>\n",
    "\n",
    "We now set up a `QuantumInstance` object with our backend and specify that we want to use the `TketPass` transpilation pass from `pytket` as part of our compilation of quantum circuits. The pass performs chemistry specific optimisation and significantly reduces circuit depth for these routines."
   ]
  },
  {
   "cell_type": "code",
   "execution_count": 6,
   "metadata": {},
   "outputs": [],
   "source": [
    "from qiskit_aqua import QuantumInstance\n",
    "from qiskit.transpiler._passmanager import PassManager\n",
    "from pytket.qiskit import TketPass\n",
    "\n",
    "pass_manager = PassManager()\n",
    "tk_pass = TketPass(backend)\n",
    "pass_manager.add_passes(tk_pass)\n",
    "\n",
    "quantum_instance = QuantumInstance(backend, pass_manager=pass_manager)"
   ]
  },
  {
   "cell_type": "markdown",
   "metadata": {},
   "source": [
    "## Perform classical calculation <a id='sectionB'></a>\n",
    "\n",
    "We execute our classical chemistry driver to obtain the hamiltonian integrals. In this case, we choose PYSCF as our driver, so make sure you have that installed.\n"
   ]
  },
  {
   "cell_type": "code",
   "execution_count": 7,
   "metadata": {},
   "outputs": [
    {
     "name": "stdout",
     "output_type": "stream",
     "text": [
      "Molecular repulsion energy:  0.7559674441714287\n"
     ]
    }
   ],
   "source": [
    "from qiskit_aqua_chemistry.drivers import ConfigurationManager\n",
    "\n",
    "# using driver to get fermionic Hamiltonian\n",
    "# PySCF example\n",
    "cfg_mgr = ConfigurationManager()\n",
    "driver = cfg_mgr.get_driver_instance('PYSCF')\n",
    "\n",
    "pyscf_cfg = {'atom': base_molecule_str.format(bond_length),\n",
    "             'unit': 'Angstrom',\n",
    "             'charge': charge,\n",
    "             'spin': spin,\n",
    "             'basis': basis}\n",
    "\n",
    "molecule = driver.run({'properties': pyscf_cfg})\n",
    "\n",
    "print(\"Molecular repulsion energy: \", molecule._nuclear_repulsion_energy)"
   ]
  },
  {
   "cell_type": "markdown",
   "metadata": {},
   "source": [
    "## Set up initial state and variational form <a id='sectionB'></a>\n",
    "\n",
    "We define the molecular hamiltonian and map it to a qubit operator according to some appropriate scheme such as the Jordan-Wigner transform. We initialize our initial state (a Hartree-Fock state) and our variational ansatz (a unitary coupled cluster with single and double excitations, UCCSD)."
   ]
  },
  {
   "cell_type": "code",
   "execution_count": 8,
   "metadata": {},
   "outputs": [],
   "source": [
    "from qiskit_aqua_chemistry import FermionicOperator\n",
    "from qiskit_aqua_chemistry.aqua_extensions.components.initial_states import HartreeFock\n",
    "from qiskit_aqua_chemistry.aqua_extensions.components.variational_forms import UCCSD\n",
    "\n",
    "n_qubits = molecule._one_body_integrals.shape[0]\n",
    "n_electrons = molecule._num_alpha + molecule._num_beta - molecule._molecular_charge\n",
    "\n",
    "# get fermionic operator and mapping to qubit operator\n",
    "ferOp = FermionicOperator(h1=molecule._one_body_integrals, h2=molecule._two_body_integrals)\n",
    "\n",
    "qubitOp = ferOp.mapping(map_type='JORDAN_WIGNER', threshold=0.00000001)\n",
    "n_qubits = qubitOp.num_qubits\n",
    "qubitOp.chop(10**-10)\n",
    "\n",
    "# setup variation form generator (generate trial circuits for VQE)\n",
    "initial_hf = HartreeFock(num_qubits=n_qubits, num_orbitals=n_qubits, \n",
    "                    qubit_mapping='jordan_wigner', two_qubit_reduction=False, num_particles= n_electrons)\n",
    "\n",
    "var_form = UCCSD(num_qubits=n_qubits, num_orbitals=n_qubits, \n",
    "                num_particles=n_electrons, depth=1, initial_state=initial_hf, qubit_mapping='jordan_wigner')\n",
    "\n"
   ]
  },
  {
   "cell_type": "markdown",
   "metadata": {},
   "source": [
    "## Use VQE to find ground state <a id='sectionB'></a>\n",
    "\n",
    "We run the VQE algorithm with the components previously defined. The calculation provides us with the ground state energy and optimized parameters for the corresponding UCCSD wavefunction. In this example we use the L_BFGS_B algorithm for classical optimization."
   ]
  },
  {
   "cell_type": "code",
   "execution_count": 9,
   "metadata": {},
   "outputs": [
    {
     "name": "stdout",
     "output_type": "stream",
     "text": [
      "GS Minimum value: -1.1361894540653719\n",
      "GS Parameters: [ 5.25314574e-07  5.11815141e-07 -1.04867342e-01]\n"
     ]
    }
   ],
   "source": [
    "from qiskit_aqua.algorithms.components.optimizers import L_BFGS_B\n",
    "from qiskit_aqua.algorithms.adaptive import VQE\n",
    "\n",
    "\n",
    "# set initial values of parameters\n",
    "number_amplitudes = len(var_form._single_excitations)+ len(var_form._double_excitations)\n",
    "\n",
    "amplitudes_0 = []\n",
    "for i in range(number_amplitudes):\n",
    "    amplitudes_0.append(0.00001)\n",
    "\n",
    "optimizer = L_BFGS_B()\n",
    "optimizer.set_options(maxfun=1000, factr=10, iprint=10)\n",
    "\n",
    "# setup VQE with operator, variation form, and optimzer\n",
    "vqe_algorithm = VQE(operator=qubitOp, operator_mode='matrix', \n",
    "                    var_form=var_form, optimizer=optimizer, initial_point=amplitudes_0)\n",
    "\n",
    "\n",
    "# vqe_algorithm.setup_quantum_backend(backend=backend_name, pass_manager=pass_manager)\n",
    "results = vqe_algorithm.run(quantum_instance)\n",
    "\n",
    "eigval = results['eigvals'][0]\n",
    "gs_energy = eigval.real + molecule._nuclear_repulsion_energy\n",
    "\n",
    "print(\"GS Minimum value: {}\".format(gs_energy))\n",
    "print(\"GS Parameters: {}\".format(results['opt_params']))\n",
    "\n",
    "# store ground state amplitudes for subsequent steps\n",
    "opti_amplitudes = results['opt_params']\n",
    "\n"
   ]
  },
  {
   "cell_type": "markdown",
   "metadata": {},
   "source": [
    "## Use QSE to find excited states from ground state <a id='sectionB'></a>\n",
    "\n",
    "We now have the main ingredients to perform a QSE calculation: the molecular hamiltonian and the optimized parameters to reconstruct the ground state wavefunction. We build our excitation hamiltonian and overlap operators, and measure the elements that compose $H$ and $S$. After we have obtained these arrays, we perform a diagonalization to obtain the excited state energies and vectors.\n"
   ]
  },
  {
   "cell_type": "code",
   "execution_count": 10,
   "metadata": {},
   "outputs": [
    {
     "name": "stdout",
     "output_type": "stream",
     "text": [
      "Excited State Energies:  [-1.13618945 -0.47845306 -0.47845306 -0.47845306 -0.1204519   0.5833141\n",
      "  0.75596744  0.75596744  0.75596744  0.75596744  0.75596744  0.75596744\n",
      "  0.75596744  0.75596744  0.75596744  0.75596744]\n"
     ]
    }
   ],
   "source": [
    "from pytket.chemistry import QseMatrices, QSE\n",
    "\n",
    "qubitOp = ferOp.mapping(map_type='JORDAN_WIGNER', threshold=0.00000001)\n",
    "n_qubits = qubitOp.num_qubits\n",
    "qubitOp.chop(10**-10)\n",
    "# use matrix term helper class\n",
    "matrix_terms = QseMatrices(qubitOp, n_qubits)\n",
    "\n",
    "qse_algorithm = QSE(matrix_terms, 'matrix', var_form, opt_init_point=opti_amplitudes)\n",
    "\n",
    "energies = qse_algorithm.run(quantum_instance)['eigvals']\n",
    "print(\"Excited State Energies: \", energies+molecule._nuclear_repulsion_energy)\n",
    "\n"
   ]
  },
  {
   "cell_type": "markdown",
   "metadata": {},
   "source": [
    "The calculation provides a refined value of the ground state and a series of excited state energies, whose number depends on the size of the basis set chosen for the molecule, as well as its nature and symmetry. Some of the energies obtained are repeated several times, signaling that some of the states obtained are degenerate. This result can be improved by either increasing the basis set or considering higher-order excitations in the subspace expansion."
   ]
  },
  {
   "cell_type": "markdown",
   "metadata": {},
   "source": [
    "[1] J. R. McClean, M. E. Kimchi-Schwartz, J. Carter and W. A. de Jong, Phys. Rev. A 95, 042308 (2017)\n",
    "\n",
    "[2] J. I. Colless, V. V. Ramasesh, D. Dahlen, M. S. Blok, M. E. Kimchi-Schwartz, J. R. McClean, J. Carter, W. A. de Jong and I. Siddiqi, Phys. Rev. X 8, 011021 (2018)\n"
   ]
  }
 ],
 "metadata": {
  "anaconda-cloud": {},
  "kernelspec": {
   "display_name": "Python 3",
   "language": "python",
   "name": "python3"
  },
  "language_info": {
   "codemirror_mode": {
    "name": "ipython",
    "version": 3
   },
   "file_extension": ".py",
   "mimetype": "text/x-python",
   "name": "python",
   "nbconvert_exporter": "python",
   "pygments_lexer": "ipython3",
   "version": "3.5.2"
  }
 },
 "nbformat": 4,
 "nbformat_minor": 1
}
